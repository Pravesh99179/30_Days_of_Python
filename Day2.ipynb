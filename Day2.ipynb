{
  "nbformat": 4,
  "nbformat_minor": 0,
  "metadata": {
    "colab": {
      "name": "Day2.ipynb",
      "provenance": [],
      "authorship_tag": "ABX9TyPNrU7wGyw2QXCo84JffxPJ",
      "include_colab_link": true
    },
    "kernelspec": {
      "name": "python3",
      "display_name": "Python 3"
    },
    "language_info": {
      "name": "python"
    }
  },
  "cells": [
    {
      "cell_type": "markdown",
      "metadata": {
        "id": "view-in-github",
        "colab_type": "text"
      },
      "source": [
        "<a href=\"https://colab.research.google.com/github/Pravesh99179/30_Days_of_Python/blob/main/Day2.ipynb\" target=\"_parent\"><img src=\"https://colab.research.google.com/assets/colab-badge.svg\" alt=\"Open In Colab\"/></a>"
      ]
    },
    {
      "cell_type": "code",
      "execution_count": 7,
      "metadata": {
        "colab": {
          "base_uri": "https://localhost:8080/"
        },
        "id": "bnUf6cy-qVnY",
        "outputId": "86f7c224-5d67-4990-e169-5dbe4e2f3921"
      },
      "outputs": [
        {
          "output_type": "stream",
          "name": "stdout",
          "text": [
            "7\n",
            "7\n",
            "False\n"
          ]
        }
      ],
      "source": [
        "#Day2 :30 Days of Python programming\n",
        "first_name=\"Pravesh\"\n",
        "last_name=\"Agrawal\"\n",
        "full_name=\"Pravesh Agrawal\"\n",
        "country=\"India\"\n",
        "city=\"Haldwani\"\n",
        "age=20\n",
        "year=2001\n",
        "is_married=\"Single\"\n",
        "is_true= True\n",
        "is_light_on=\"On\"\n",
        "var1,var2,var3=1,2,3\n",
        "print(len(first_name))\n",
        "print(len(last_name))\n",
        "print(first_name==last_name)"
      ]
    },
    {
      "cell_type": "code",
      "source": [
        "num_one=5\n",
        "num_two=4\n",
        "total=num_one+num_two\n",
        "diff=num_two-num_one\n",
        "product=num_one*num_two\n",
        "division=num_one/num_two\n",
        "remainder=num_two%num_one\n",
        "exp=num_one**num_two\n",
        "floor_division=num_one//num_two\n"
      ],
      "metadata": {
        "id": "GxAF1b1tsmx-"
      },
      "execution_count": 8,
      "outputs": []
    },
    {
      "cell_type": "code",
      "source": [
        "r=int(input())\n",
        "area=3.14*r*r\n",
        "print(area)\n",
        "c=2*3.14*r\n",
        "print(c)\n"
      ],
      "metadata": {
        "colab": {
          "base_uri": "https://localhost:8080/"
        },
        "id": "aeHYdwrCtTWz",
        "outputId": "d87efde0-7361-45a7-8770-951e78d16311"
      },
      "execution_count": 9,
      "outputs": [
        {
          "output_type": "stream",
          "name": "stdout",
          "text": [
            "30\n",
            "2826.0\n",
            "188.4\n"
          ]
        }
      ]
    }
  ]
}